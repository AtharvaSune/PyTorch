{
  "nbformat": 4,
  "nbformat_minor": 0,
  "metadata": {
    "colab": {
      "name": "Autoencoder in PyTorch.ipynb",
      "provenance": [],
      "collapsed_sections": [],
      "toc_visible": true,
      "include_colab_link": true
    },
    "kernelspec": {
      "name": "python3",
      "display_name": "Python 3"
    },
    "accelerator": "GPU"
  },
  "cells": [
    {
      "cell_type": "markdown",
      "metadata": {
        "id": "view-in-github",
        "colab_type": "text"
      },
      "source": [
        "<a href=\"https://colab.research.google.com/github/AtharvaSune/PyTorch/blob/master/Autoencoder_in_PyTorch.ipynb\" target=\"_parent\"><img src=\"https://colab.research.google.com/assets/colab-badge.svg\" alt=\"Open In Colab\"/></a>"
      ]
    },
    {
      "cell_type": "code",
      "metadata": {
        "id": "3NhBkoyVfnRH",
        "colab_type": "code",
        "colab": {}
      },
      "source": [
        "import torch \n",
        "import torchvision as tv\n",
        "from torchvision.transforms import transforms\n",
        "import torch.nn as nn\n",
        "import torch.nn.functional as F\n",
        "from torch.autograd import Variable\n",
        "from torchvision.utils import save_image"
      ],
      "execution_count": 0,
      "outputs": []
    },
    {
      "cell_type": "code",
      "metadata": {
        "id": "w_S8PRllBfxw",
        "colab_type": "code",
        "outputId": "5e3c8d40-f061-4c5a-bba4-69e26bece4d8",
        "colab": {
          "base_uri": "https://localhost:8080/",
          "height": 52
        }
      },
      "source": [
        "# transforms in torchvision helps in applying transformations\n",
        "# to images. Here ToTensor and Normalize are being used\n",
        "# ToTensor() Converts image from Numpy(PIL) tensor (H x W x C)\n",
        "# to torch tensor (C x H x W)\n",
        "# Normalize() normalises the values of the tensor\n",
        "\n",
        "transform = transforms.Compose([\n",
        "                                transforms.ToTensor(),\n",
        "                                transforms.Normalize((0.4914, 0.4822, 0.4466), \n",
        "                                                     (0.247, 0.243, 0.261))\n",
        "                              ])\n",
        "\n",
        "test_data = tv.datasets.CIFAR10(root='./data', train=False, transform= transform, download=True)\n",
        "\n",
        "test_loader = torch.utils.data.DataLoader(test_data, batch_size = 4, shuffle=False, num_workers=4)\n",
        "\n",
        "train_data = tv.datasets.CIFAR10(root='./data', transform= transform, download=True)\n",
        "\n",
        "train_loader = torch.utils.data.DataLoader(train_data, batch_size = 64, shuffle=True, num_workers=4)"
      ],
      "execution_count": 0,
      "outputs": [
        {
          "output_type": "stream",
          "text": [
            "Files already downloaded and verified\n",
            "Files already downloaded and verified\n"
          ],
          "name": "stdout"
        }
      ]
    },
    {
      "cell_type": "code",
      "metadata": {
        "id": "3LGSBzWKI2kN",
        "colab_type": "code",
        "colab": {}
      },
      "source": [
        "# Creating the Autoencder Model Using SubClassing\n",
        "\n",
        "class Autoencoder(nn.Module):\n",
        "\n",
        "  def __init__(self):\n",
        "    super(Autoencoder, self).__init__()\n",
        "\n",
        "    self.Encoder = nn.Sequential(\n",
        "        nn.Conv2d(3, 6, 5),\n",
        "        nn.ReLU(True),\n",
        "        nn.Conv2d(6, 16, 5),\n",
        "        nn.ReLU(True)\n",
        "    )\n",
        "\n",
        "    self.Decoder = nn.Sequential(\n",
        "        nn.ConvTranspose2d(16, 6, 5),\n",
        "        nn.ReLU(True),\n",
        "        nn.ConvTranspose2d(6, 3, 5),\n",
        "        nn.ReLU(True),\n",
        "        nn.Sigmoid()\n",
        "    )\n",
        "\n",
        "  def forward(self, X):\n",
        "    x = self.Encoder(X)\n",
        "    x = self.Decoder(x)\n",
        "    return x"
      ],
      "execution_count": 0,
      "outputs": []
    },
    {
      "cell_type": "code",
      "metadata": {
        "id": "WR4_FHYjKyhv",
        "colab_type": "code",
        "colab": {}
      },
      "source": [
        "model = Autoencoder().cuda()\n",
        "distance = nn.MSELoss()\n",
        "optimizer = torch.optim.Adam(model.parameters(), weight_decay=1e-5)"
      ],
      "execution_count": 0,
      "outputs": []
    },
    {
      "cell_type": "code",
      "metadata": {
        "id": "kSHA5wPGLIpd",
        "colab_type": "code",
        "outputId": "2de245a4-3d4f-495a-ec90-f625c6d7f3f3",
        "colab": {
          "base_uri": "https://localhost:8080/",
          "height": 906
        }
      },
      "source": [
        "num_epochs = 50\n",
        "for epoch in range(num_epochs):\n",
        "    for data in train_loader:\n",
        "        img, _ = data\n",
        "        img = Variable(img).cuda()\n",
        "        # ===================forward=====================\n",
        "        output = model(img)\n",
        "        loss = distance(output, img)\n",
        "        # ===================backward====================\n",
        "        optimizer.zero_grad()\n",
        "        loss.backward()\n",
        "        optimizer.step()\n",
        "    # ===================log========================\n",
        "    print('epoch [{}/{}], loss:{:.4f}'.format(epoch+1, num_epochs, loss.data))"
      ],
      "execution_count": 0,
      "outputs": [
        {
          "output_type": "stream",
          "text": [
            "epoch [1/50], loss:1.2133\n",
            "epoch [2/50], loss:1.2746\n",
            "epoch [3/50], loss:1.1888\n",
            "epoch [4/50], loss:1.0650\n",
            "epoch [5/50], loss:0.7845\n",
            "epoch [6/50], loss:0.8934\n",
            "epoch [7/50], loss:1.1495\n",
            "epoch [8/50], loss:1.2248\n",
            "epoch [9/50], loss:1.0976\n",
            "epoch [10/50], loss:1.3378\n",
            "epoch [11/50], loss:1.1075\n",
            "epoch [12/50], loss:1.1785\n",
            "epoch [13/50], loss:1.1771\n",
            "epoch [14/50], loss:1.3546\n",
            "epoch [15/50], loss:1.5797\n",
            "epoch [16/50], loss:1.3556\n",
            "epoch [17/50], loss:0.9710\n",
            "epoch [18/50], loss:0.7857\n",
            "epoch [19/50], loss:1.0613\n",
            "epoch [20/50], loss:1.0851\n",
            "epoch [21/50], loss:0.8946\n",
            "epoch [22/50], loss:1.0998\n",
            "epoch [23/50], loss:1.1275\n",
            "epoch [24/50], loss:1.0207\n",
            "epoch [25/50], loss:1.3180\n",
            "epoch [26/50], loss:1.3166\n",
            "epoch [27/50], loss:1.0452\n",
            "epoch [28/50], loss:1.5839\n",
            "epoch [29/50], loss:0.9568\n",
            "epoch [30/50], loss:1.0813\n",
            "epoch [31/50], loss:1.0499\n",
            "epoch [32/50], loss:1.0141\n",
            "epoch [33/50], loss:1.2862\n",
            "epoch [34/50], loss:1.0084\n",
            "epoch [35/50], loss:0.9623\n",
            "epoch [36/50], loss:1.3327\n",
            "epoch [37/50], loss:0.9087\n",
            "epoch [38/50], loss:1.2329\n",
            "epoch [39/50], loss:0.9723\n",
            "epoch [40/50], loss:1.3133\n",
            "epoch [41/50], loss:1.0363\n",
            "epoch [42/50], loss:0.9943\n",
            "epoch [43/50], loss:1.1183\n",
            "epoch [44/50], loss:1.0521\n",
            "epoch [45/50], loss:1.2496\n",
            "epoch [46/50], loss:1.0131\n",
            "epoch [47/50], loss:1.2543\n",
            "epoch [48/50], loss:0.9049\n",
            "epoch [49/50], loss:1.4107\n",
            "epoch [50/50], loss:1.0184\n"
          ],
          "name": "stdout"
        }
      ]
    },
    {
      "cell_type": "code",
      "metadata": {
        "id": "vBK-xOldLWUF",
        "colab_type": "code",
        "colab": {}
      },
      "source": [
        ""
      ],
      "execution_count": 0,
      "outputs": []
    }
  ]
}