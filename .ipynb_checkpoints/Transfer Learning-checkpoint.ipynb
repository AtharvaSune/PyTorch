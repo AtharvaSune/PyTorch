{
 "cells": [
  {
   "cell_type": "code",
   "execution_count": 1,
   "metadata": {},
   "outputs": [],
   "source": [
    "import torch \n",
    "import torch.nn as nn\n",
    "import os\n",
    "import time\n",
    "import torchvision\n",
    "import numpy as np\n",
    "from torch.optim import lr_scheduler\n",
    "from torchvision import datasets, models, transforms\n",
    "import matplotlib.pyplot as plt\n",
    "import copy\n",
    "\n",
    "plt.ion()"
   ]
  },
  {
   "cell_type": "markdown",
   "metadata": {},
   "source": [
    "Here we will use the <code>torchvision.datasets.ImageFolder</code> class to see how to get data when data is structured in the following format.\n",
    "<code>\n",
    "    <b>root/class_name/image.jpg</b>\n",
    "</code>\n",
    "\n",
    "<p>We will also use <code><b>torchvision.transforms</b></code> to apply transformation to the data.</p>"
   ]
  },
  {
   "cell_type": "code",
   "execution_count": null,
   "metadata": {},
   "outputs": [],
   "source": [
    "transform = {\n",
    "    'train':transforms.Compose([transforms.RandomResizedCrop(224),\n",
    "                               transforms.ToTensor(),\n",
    "                               transforms.RandomHorizontalFlip(),\n",
    "                               transforms.Normalize([0.485, 0.456, 0.406], [0.229, 0.224, 0.225])]),\n",
    "    \n",
    "    'val':transforms.Compose([transforms.RandomResizedCrop(224),\n",
    "                               transforms.ToTensor(),\n",
    "                               transforms.RandomHorizontalFlip(),\n",
    "                               transforms.Normalize([0.485, 0.456, 0.406], [0.229, 0.224, 0.225])])"
   ]
  }
 ],
 "metadata": {
  "kernelspec": {
   "display_name": "Python 3",
   "language": "python",
   "name": "python3"
  },
  "language_info": {
   "codemirror_mode": {
    "name": "ipython",
    "version": 3
   },
   "file_extension": ".py",
   "mimetype": "text/x-python",
   "name": "python",
   "nbconvert_exporter": "python",
   "pygments_lexer": "ipython3",
   "version": "3.7.3"
  }
 },
 "nbformat": 4,
 "nbformat_minor": 2
}
